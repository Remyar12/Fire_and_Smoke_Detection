{
 "cells": [
  {
   "cell_type": "code",
   "execution_count": null,
   "metadata": {},
   "outputs": [],
   "source": [
    "import numpy as np\n",
    "import matplotlib.pyplot as plt\n",
    "import cv2\n",
    "import os\n",
    "import tensorflow as tf\n",
    "from PIL import Image\n",
    "from sklearn.model_selection import train_test_split\n",
    "from sklearn.metrics import classification_report\n",
    "from tqdm import tqdm\n"
   ]
  },
  {
   "cell_type": "code",
   "execution_count": 29,
   "metadata": {},
   "outputs": [
    {
     "name": "stdout",
     "output_type": "stream",
     "text": [
      "--------------------------------------\n",
      "\n"
     ]
    }
   ],
   "source": [
    "image_dir=r\"C:\\Users\\remya\\OneDrive\\Desktop\\fire_and_smoke_original\\fire_and_smoke\"\n",
    "no_fire_and_smoke_images=os.listdir(image_dir+ '/no_fire_and_smoke')\n",
    "fire_and_smoke_high_intensity_images=os.listdir(image_dir+ '/High_intensity')\n",
    "fire_and_smoke_low_intensity_images=os.listdir(image_dir+ '/Low_intensity')\n",
    "print(\"--------------------------------------\\n\")"
   ]
  },
  {
   "cell_type": "code",
   "execution_count": 30,
   "metadata": {},
   "outputs": [
    {
     "name": "stdout",
     "output_type": "stream",
     "text": [
      "The length of NO Fire and Smoke images is 963\n",
      "The length of Fire and Smoke High intensity images is 647\n",
      "The length of Fire and Smoke Low intensity images is 328\n",
      "--------------------------------------\n",
      "\n"
     ]
    }
   ],
   "source": [
    "print('The length of NO Fire and Smoke images is',len(no_fire_and_smoke_images))\n",
    "print('The length of Fire and Smoke High intensity images is',len(fire_and_smoke_high_intensity_images))\n",
    "print('The length of Fire and Smoke Low intensity images is',len(fire_and_smoke_low_intensity_images))\n",
    "print(\"--------------------------------------\\n\")\n"
   ]
  },
  {
   "cell_type": "code",
   "execution_count": 31,
   "metadata": {},
   "outputs": [],
   "source": [
    "dataset=[]\n",
    "label=[]\n",
    "img_siz=(128,128)"
   ]
  },
  {
   "cell_type": "code",
   "execution_count": 32,
   "metadata": {},
   "outputs": [],
   "source": [
    "# Base directory containing all image categories\n",
    "image_dir = r\"C:\\Users\\remya\\OneDrive\\Desktop\\fire_and_smoke_original\\fire_and_smoke\"\n",
    "\n",
    "# Define categories and their corresponding labels\n",
    "categories = {\n",
    "    \"no_fire_and_smoke\": 0,\n",
    "    \"High_intensity\": 2,\n",
    "    \"Low_intensity\": 1\n",
    "}"
   ]
  },
  {
   "cell_type": "code",
   "execution_count": 33,
   "metadata": {},
   "outputs": [
    {
     "name": "stdout",
     "output_type": "stream",
     "text": [
      "Processing category: no_fire_and_smoke\n",
      "Processing category: High_intensity\n",
      "Processing category: Low_intensity\n"
     ]
    }
   ],
   "source": [
    "# Process each category\n",
    "for category, class_label in categories.items():\n",
    "    print(f\"Processing category: {category}\")\n",
    "    \n",
    "    # Get the path to the current category folder\n",
    "    category_dir = os.path.join(image_dir, category)  # Combine base directory and category\n",
    "    image_names = os.listdir(category_dir)  # Use category_dir, NOT categories\n",
    "    "
   ]
  },
  {
   "cell_type": "code",
   "execution_count": 34,
   "metadata": {},
   "outputs": [
    {
     "name": "stderr",
     "output_type": "stream",
     "text": [
      "Fire and Smoke High Intensity: 647it [00:06, 96.95it/s] \n"
     ]
    }
   ],
   "source": [
    "for i, image_name in tqdm(enumerate(fire_and_smoke_high_intensity_images), desc=\"Fire and Smoke High Intensity\"):\n",
    "    if image_name.split('.')[1].lower() == 'jpg':  # Ensure case-insensitive check for 'jpg'\n",
    "        # Construct the full path for high intensity images\n",
    "        image_path = os.path.join(image_dir, 'High_intensity', image_name)  # Use os.path.join for better path handling\n",
    "        \n",
    "        # Read the image using OpenCV\n",
    "        image = cv2.imread(image_path)\n",
    "        \n",
    "        # Check if the image is loaded correctly\n",
    "        if image is None:\n",
    "            print(f\"Failed to read image: {image_path}\")\n",
    "            continue\n",
    "        \n",
    "        # Convert image to RGB and resize\n",
    "        image = Image.fromarray(image, 'RGB')\n",
    "        image = image.resize(img_siz)\n",
    "        \n",
    "        # Append the image to the dataset with the label for high intensity (class label 2)\n",
    "        dataset.append(np.array(image))\n",
    "        label.append(2)  # Class label 2 for High Intensity images\n"
   ]
  },
  {
   "cell_type": "code",
   "execution_count": 35,
   "metadata": {},
   "outputs": [
    {
     "name": "stderr",
     "output_type": "stream",
     "text": [
      "No Fire And Smoke: 963it [00:05, 177.36it/s]\n"
     ]
    }
   ],
   "source": [
    "for i, image_name in tqdm(enumerate(no_fire_and_smoke_images), desc=\"No Fire And Smoke\"):\n",
    "    if image_name.split('.')[1].lower() == 'jpg':  # Ensure case-insensitive check for 'jpg'\n",
    "        # Construct the full path for low intensity images\n",
    "        image_path = os.path.join(image_dir, 'no_fire_and_smoke', image_name)  # Use os.path.join for better path handling\n",
    "        \n",
    "        # Read the image using OpenCV\n",
    "        image = cv2.imread(image_path)\n",
    "        \n",
    "        # Check if the image is loaded correctly\n",
    "        if image is None:\n",
    "            print(f\"Failed to read image: {image_path}\")\n",
    "            continue\n",
    "        \n",
    "        # Convert image to RGB and resize\n",
    "        image = Image.fromarray(image, 'RGB')\n",
    "        image = image.resize(img_siz)\n",
    "        \n",
    "        # Append the image to the dataset with the label for low intensity (class label 1)\n",
    "        dataset.append(np.array(image))\n",
    "        label.append(0)  # Class label 1 for Low Intensity images\n"
   ]
  },
  {
   "cell_type": "code",
   "execution_count": 36,
   "metadata": {},
   "outputs": [
    {
     "name": "stderr",
     "output_type": "stream",
     "text": [
      "Fire and Smoke Low Intensity: 328it [00:02, 119.42it/s]\n"
     ]
    }
   ],
   "source": [
    "for i, image_name in tqdm(enumerate(fire_and_smoke_low_intensity_images), desc=\"Fire and Smoke Low Intensity\"):\n",
    "    if image_name.split('.')[1].lower() == 'jpg':  # Ensure case-insensitive check for 'jpg'\n",
    "        # Construct the full path for low intensity images\n",
    "        image_path = os.path.join(image_dir, 'Low_intensity', image_name)  # Use os.path.join for better path handling\n",
    "        \n",
    "        # Read the image using OpenCV\n",
    "        image = cv2.imread(image_path)\n",
    "        \n",
    "        # Check if the image is loaded correctly\n",
    "        if image is None:\n",
    "            print(f\"Failed to read image: {image_path}\")\n",
    "            continue\n",
    "        \n",
    "        # Convert image to RGB and resize\n",
    "        image = Image.fromarray(image, 'RGB')\n",
    "        image = image.resize(img_siz)\n",
    "        \n",
    "        # Append the image to the dataset with the label for low intensity (class label 1)\n",
    "        dataset.append(np.array(image))\n",
    "        label.append(1)  # Class label 1 for Low Intensity images\n"
   ]
  },
  {
   "cell_type": "code",
   "execution_count": 37,
   "metadata": {},
   "outputs": [
    {
     "name": "stdout",
     "output_type": "stream",
     "text": [
      "Dataset and labels have been successfully converted to numpy arrays!\n"
     ]
    }
   ],
   "source": [
    "# Convert dataset and label lists to numpy arrays\n",
    "dataset = np.array(dataset, dtype=\"float32\") / 255.0  # Normalize pixel values (optional)\n",
    "label = np.array(label)\n",
    "\n",
    "print(\"Dataset and labels have been successfully converted to numpy arrays!\")\n"
   ]
  },
  {
   "cell_type": "code",
   "execution_count": 39,
   "metadata": {},
   "outputs": [
    {
     "name": "stdout",
     "output_type": "stream",
     "text": [
      "--------------------------------------\n",
      "\n",
      "Dataset Length:  1937\n",
      "Label Length:  1937\n",
      "--------------------------------------\n",
      "\n"
     ]
    }
   ],
   "source": [
    "print(\"--------------------------------------\\n\")\n",
    "print('Dataset Length: ',len(dataset))\n",
    "print('Label Length: ',len(label))\n",
    "print(\"--------------------------------------\\n\")\n"
   ]
  },
  {
   "cell_type": "code",
   "execution_count": 40,
   "metadata": {},
   "outputs": [
    {
     "name": "stdout",
     "output_type": "stream",
     "text": [
      "--------------------------------------\n",
      "\n",
      "Train-Test Split\n",
      "--------------------------------------\n",
      "\n"
     ]
    }
   ],
   "source": [
    "\n",
    "\n",
    "print(\"--------------------------------------\\n\")\n",
    "print(\"Train-Test Split\")\n",
    "\n",
    "# Splitting dataset into training and testing sets\n",
    "x_train, x_test, y_train, y_test = train_test_split(dataset, label, test_size=0.2, random_state=42)\n",
    "\n",
    "print(\"--------------------------------------\\n\")\n"
   ]
  },
  {
   "cell_type": "code",
   "execution_count": 41,
   "metadata": {},
   "outputs": [
    {
     "name": "stdout",
     "output_type": "stream",
     "text": [
      "--------------------------------------\n",
      "\n",
      "Normalaising the Dataset. \n",
      "\n"
     ]
    }
   ],
   "source": [
    "print(\"--------------------------------------\\n\")\n",
    "print(\"Normalaising the Dataset. \\n\")\n"
   ]
  },
  {
   "cell_type": "code",
   "execution_count": 42,
   "metadata": {},
   "outputs": [],
   "source": [
    "# Normalize the dataset using TensorFlow's normalize function\n",
    "x_train = tf.keras.utils.normalize(x_train, axis=1)  # Normalize training images\n",
    "x_test = tf.keras.utils.normalize(x_test, axis=1)    # Normalize test images"
   ]
  },
  {
   "cell_type": "code",
   "execution_count": 43,
   "metadata": {},
   "outputs": [
    {
     "name": "stdout",
     "output_type": "stream",
     "text": [
      "--------------------------------------\n",
      "\n",
      "--------------------------------------\n",
      "\n"
     ]
    },
    {
     "data": {
      "text/html": [
       "<pre style=\"white-space:pre;overflow-x:auto;line-height:normal;font-family:Menlo,'DejaVu Sans Mono',consolas,'Courier New',monospace\"><span style=\"font-weight: bold\">Model: \"sequential_1\"</span>\n",
       "</pre>\n"
      ],
      "text/plain": [
       "\u001b[1mModel: \"sequential_1\"\u001b[0m\n"
      ]
     },
     "metadata": {},
     "output_type": "display_data"
    },
    {
     "data": {
      "text/html": [
       "<pre style=\"white-space:pre;overflow-x:auto;line-height:normal;font-family:Menlo,'DejaVu Sans Mono',consolas,'Courier New',monospace\">┏━━━━━━━━━━━━━━━━━━━━━━━━━━━━━━━━━┳━━━━━━━━━━━━━━━━━━━━━━━━┳━━━━━━━━━━━━━━━┓\n",
       "┃<span style=\"font-weight: bold\"> Layer (type)                    </span>┃<span style=\"font-weight: bold\"> Output Shape           </span>┃<span style=\"font-weight: bold\">       Param # </span>┃\n",
       "┡━━━━━━━━━━━━━━━━━━━━━━━━━━━━━━━━━╇━━━━━━━━━━━━━━━━━━━━━━━━╇━━━━━━━━━━━━━━━┩\n",
       "│ conv2d_1 (<span style=\"color: #0087ff; text-decoration-color: #0087ff\">Conv2D</span>)               │ (<span style=\"color: #00d7ff; text-decoration-color: #00d7ff\">None</span>, <span style=\"color: #00af00; text-decoration-color: #00af00\">126</span>, <span style=\"color: #00af00; text-decoration-color: #00af00\">126</span>, <span style=\"color: #00af00; text-decoration-color: #00af00\">32</span>)   │           <span style=\"color: #00af00; text-decoration-color: #00af00\">896</span> │\n",
       "├─────────────────────────────────┼────────────────────────┼───────────────┤\n",
       "│ max_pooling2d_1 (<span style=\"color: #0087ff; text-decoration-color: #0087ff\">MaxPooling2D</span>)  │ (<span style=\"color: #00d7ff; text-decoration-color: #00d7ff\">None</span>, <span style=\"color: #00af00; text-decoration-color: #00af00\">63</span>, <span style=\"color: #00af00; text-decoration-color: #00af00\">63</span>, <span style=\"color: #00af00; text-decoration-color: #00af00\">32</span>)     │             <span style=\"color: #00af00; text-decoration-color: #00af00\">0</span> │\n",
       "├─────────────────────────────────┼────────────────────────┼───────────────┤\n",
       "│ flatten_1 (<span style=\"color: #0087ff; text-decoration-color: #0087ff\">Flatten</span>)             │ (<span style=\"color: #00d7ff; text-decoration-color: #00d7ff\">None</span>, <span style=\"color: #00af00; text-decoration-color: #00af00\">127008</span>)         │             <span style=\"color: #00af00; text-decoration-color: #00af00\">0</span> │\n",
       "├─────────────────────────────────┼────────────────────────┼───────────────┤\n",
       "│ dense_3 (<span style=\"color: #0087ff; text-decoration-color: #0087ff\">Dense</span>)                 │ (<span style=\"color: #00d7ff; text-decoration-color: #00d7ff\">None</span>, <span style=\"color: #00af00; text-decoration-color: #00af00\">256</span>)            │    <span style=\"color: #00af00; text-decoration-color: #00af00\">32,514,304</span> │\n",
       "├─────────────────────────────────┼────────────────────────┼───────────────┤\n",
       "│ dropout_1 (<span style=\"color: #0087ff; text-decoration-color: #0087ff\">Dropout</span>)             │ (<span style=\"color: #00d7ff; text-decoration-color: #00d7ff\">None</span>, <span style=\"color: #00af00; text-decoration-color: #00af00\">256</span>)            │             <span style=\"color: #00af00; text-decoration-color: #00af00\">0</span> │\n",
       "├─────────────────────────────────┼────────────────────────┼───────────────┤\n",
       "│ dense_4 (<span style=\"color: #0087ff; text-decoration-color: #0087ff\">Dense</span>)                 │ (<span style=\"color: #00d7ff; text-decoration-color: #00d7ff\">None</span>, <span style=\"color: #00af00; text-decoration-color: #00af00\">512</span>)            │       <span style=\"color: #00af00; text-decoration-color: #00af00\">131,584</span> │\n",
       "├─────────────────────────────────┼────────────────────────┼───────────────┤\n",
       "│ dense_5 (<span style=\"color: #0087ff; text-decoration-color: #0087ff\">Dense</span>)                 │ (<span style=\"color: #00d7ff; text-decoration-color: #00d7ff\">None</span>, <span style=\"color: #00af00; text-decoration-color: #00af00\">3</span>)              │         <span style=\"color: #00af00; text-decoration-color: #00af00\">1,539</span> │\n",
       "└─────────────────────────────────┴────────────────────────┴───────────────┘\n",
       "</pre>\n"
      ],
      "text/plain": [
       "┏━━━━━━━━━━━━━━━━━━━━━━━━━━━━━━━━━┳━━━━━━━━━━━━━━━━━━━━━━━━┳━━━━━━━━━━━━━━━┓\n",
       "┃\u001b[1m \u001b[0m\u001b[1mLayer (type)                   \u001b[0m\u001b[1m \u001b[0m┃\u001b[1m \u001b[0m\u001b[1mOutput Shape          \u001b[0m\u001b[1m \u001b[0m┃\u001b[1m \u001b[0m\u001b[1m      Param #\u001b[0m\u001b[1m \u001b[0m┃\n",
       "┡━━━━━━━━━━━━━━━━━━━━━━━━━━━━━━━━━╇━━━━━━━━━━━━━━━━━━━━━━━━╇━━━━━━━━━━━━━━━┩\n",
       "│ conv2d_1 (\u001b[38;5;33mConv2D\u001b[0m)               │ (\u001b[38;5;45mNone\u001b[0m, \u001b[38;5;34m126\u001b[0m, \u001b[38;5;34m126\u001b[0m, \u001b[38;5;34m32\u001b[0m)   │           \u001b[38;5;34m896\u001b[0m │\n",
       "├─────────────────────────────────┼────────────────────────┼───────────────┤\n",
       "│ max_pooling2d_1 (\u001b[38;5;33mMaxPooling2D\u001b[0m)  │ (\u001b[38;5;45mNone\u001b[0m, \u001b[38;5;34m63\u001b[0m, \u001b[38;5;34m63\u001b[0m, \u001b[38;5;34m32\u001b[0m)     │             \u001b[38;5;34m0\u001b[0m │\n",
       "├─────────────────────────────────┼────────────────────────┼───────────────┤\n",
       "│ flatten_1 (\u001b[38;5;33mFlatten\u001b[0m)             │ (\u001b[38;5;45mNone\u001b[0m, \u001b[38;5;34m127008\u001b[0m)         │             \u001b[38;5;34m0\u001b[0m │\n",
       "├─────────────────────────────────┼────────────────────────┼───────────────┤\n",
       "│ dense_3 (\u001b[38;5;33mDense\u001b[0m)                 │ (\u001b[38;5;45mNone\u001b[0m, \u001b[38;5;34m256\u001b[0m)            │    \u001b[38;5;34m32,514,304\u001b[0m │\n",
       "├─────────────────────────────────┼────────────────────────┼───────────────┤\n",
       "│ dropout_1 (\u001b[38;5;33mDropout\u001b[0m)             │ (\u001b[38;5;45mNone\u001b[0m, \u001b[38;5;34m256\u001b[0m)            │             \u001b[38;5;34m0\u001b[0m │\n",
       "├─────────────────────────────────┼────────────────────────┼───────────────┤\n",
       "│ dense_4 (\u001b[38;5;33mDense\u001b[0m)                 │ (\u001b[38;5;45mNone\u001b[0m, \u001b[38;5;34m512\u001b[0m)            │       \u001b[38;5;34m131,584\u001b[0m │\n",
       "├─────────────────────────────────┼────────────────────────┼───────────────┤\n",
       "│ dense_5 (\u001b[38;5;33mDense\u001b[0m)                 │ (\u001b[38;5;45mNone\u001b[0m, \u001b[38;5;34m3\u001b[0m)              │         \u001b[38;5;34m1,539\u001b[0m │\n",
       "└─────────────────────────────────┴────────────────────────┴───────────────┘\n"
      ]
     },
     "metadata": {},
     "output_type": "display_data"
    },
    {
     "data": {
      "text/html": [
       "<pre style=\"white-space:pre;overflow-x:auto;line-height:normal;font-family:Menlo,'DejaVu Sans Mono',consolas,'Courier New',monospace\"><span style=\"font-weight: bold\"> Total params: </span><span style=\"color: #00af00; text-decoration-color: #00af00\">32,648,323</span> (124.54 MB)\n",
       "</pre>\n"
      ],
      "text/plain": [
       "\u001b[1m Total params: \u001b[0m\u001b[38;5;34m32,648,323\u001b[0m (124.54 MB)\n"
      ]
     },
     "metadata": {},
     "output_type": "display_data"
    },
    {
     "data": {
      "text/html": [
       "<pre style=\"white-space:pre;overflow-x:auto;line-height:normal;font-family:Menlo,'DejaVu Sans Mono',consolas,'Courier New',monospace\"><span style=\"font-weight: bold\"> Trainable params: </span><span style=\"color: #00af00; text-decoration-color: #00af00\">32,648,323</span> (124.54 MB)\n",
       "</pre>\n"
      ],
      "text/plain": [
       "\u001b[1m Trainable params: \u001b[0m\u001b[38;5;34m32,648,323\u001b[0m (124.54 MB)\n"
      ]
     },
     "metadata": {},
     "output_type": "display_data"
    },
    {
     "data": {
      "text/html": [
       "<pre style=\"white-space:pre;overflow-x:auto;line-height:normal;font-family:Menlo,'DejaVu Sans Mono',consolas,'Courier New',monospace\"><span style=\"font-weight: bold\"> Non-trainable params: </span><span style=\"color: #00af00; text-decoration-color: #00af00\">0</span> (0.00 B)\n",
       "</pre>\n"
      ],
      "text/plain": [
       "\u001b[1m Non-trainable params: \u001b[0m\u001b[38;5;34m0\u001b[0m (0.00 B)\n"
      ]
     },
     "metadata": {},
     "output_type": "display_data"
    },
    {
     "name": "stdout",
     "output_type": "stream",
     "text": [
      "--------------------------------------\n",
      "\n"
     ]
    }
   ],
   "source": [
    "import tensorflow as tf\n",
    "\n",
    "print(\"--------------------------------------\\n\")\n",
    "\n",
    "model = tf.keras.models.Sequential([\n",
    "    tf.keras.layers.Conv2D(32, (3, 3), activation='relu', input_shape=(128, 128, 3)),\n",
    "    tf.keras.layers.MaxPooling2D((2, 2)),\n",
    "    tf.keras.layers.Flatten(),\n",
    "    tf.keras.layers.Dense(256, activation='relu'),\n",
    "    tf.keras.layers.Dropout(0.5),\n",
    "    tf.keras.layers.Dense(512, activation='relu'),\n",
    "    # Change the number of neurons in the output layer to the number of classes (e.g., 3 classes)\n",
    "    tf.keras.layers.Dense(3, activation='softmax')  # Use 'softmax' for multi-class classification\n",
    "])\n",
    "\n",
    "print(\"--------------------------------------\\n\")\n",
    "model.summary()\n",
    "print(\"--------------------------------------\\n\")\n"
   ]
  },
  {
   "cell_type": "code",
   "execution_count": 44,
   "metadata": {},
   "outputs": [],
   "source": [
    "datagen = tf.keras.preprocessing.image.ImageDataGenerator(\n",
    "    rotation_range=30,\n",
    "    width_shift_range=0.2,\n",
    "    height_shift_range=0.2,\n",
    "    shear_range=0.2,\n",
    "    zoom_range=0.2,\n",
    "    horizontal_flip=True,\n",
    "    fill_mode='nearest'\n",
    ")\n",
    "datagen.fit(x_train)\n"
   ]
  },
  {
   "cell_type": "code",
   "execution_count": 45,
   "metadata": {},
   "outputs": [],
   "source": [
    "model.compile(optimizer='adam',\n",
    "              loss='sparse_categorical_crossentropy',  # For integer encoded labels\n",
    "              metrics=['accuracy'])\n"
   ]
  },
  {
   "cell_type": "code",
   "execution_count": 46,
   "metadata": {},
   "outputs": [
    {
     "name": "stdout",
     "output_type": "stream",
     "text": [
      "Unique labels in y_train: [0 1 2]\n"
     ]
    }
   ],
   "source": [
    "import numpy as np\n",
    "print(\"Unique labels in y_train:\", np.unique(y_train))\n"
   ]
  },
  {
   "cell_type": "code",
   "execution_count": 47,
   "metadata": {},
   "outputs": [
    {
     "name": "stdout",
     "output_type": "stream",
     "text": [
      "--------------------------------------\n",
      "\n",
      "Training Started.\n",
      "\n",
      "Epoch 1/15\n",
      "\u001b[1m11/11\u001b[0m \u001b[32m━━━━━━━━━━━━━━━━━━━━\u001b[0m\u001b[37m\u001b[0m \u001b[1m12s\u001b[0m 816ms/step - accuracy: 0.4179 - loss: 1.3683 - val_accuracy: 0.8387 - val_loss: 0.5989\n",
      "Epoch 2/15\n",
      "\u001b[1m11/11\u001b[0m \u001b[32m━━━━━━━━━━━━━━━━━━━━\u001b[0m\u001b[37m\u001b[0m \u001b[1m7s\u001b[0m 611ms/step - accuracy: 0.8019 - loss: 0.6784 - val_accuracy: 0.9226 - val_loss: 0.2862\n",
      "Epoch 3/15\n",
      "\u001b[1m11/11\u001b[0m \u001b[32m━━━━━━━━━━━━━━━━━━━━\u001b[0m\u001b[37m\u001b[0m \u001b[1m7s\u001b[0m 607ms/step - accuracy: 0.9054 - loss: 0.3671 - val_accuracy: 0.9677 - val_loss: 0.1380\n",
      "Epoch 4/15\n",
      "\u001b[1m11/11\u001b[0m \u001b[32m━━━━━━━━━━━━━━━━━━━━\u001b[0m\u001b[37m\u001b[0m \u001b[1m7s\u001b[0m 627ms/step - accuracy: 0.9491 - loss: 0.1994 - val_accuracy: 0.9677 - val_loss: 0.1263\n",
      "Epoch 5/15\n",
      "\u001b[1m11/11\u001b[0m \u001b[32m━━━━━━━━━━━━━━━━━━━━\u001b[0m\u001b[37m\u001b[0m \u001b[1m7s\u001b[0m 614ms/step - accuracy: 0.9671 - loss: 0.1340 - val_accuracy: 0.9484 - val_loss: 0.1120\n",
      "Epoch 6/15\n",
      "\u001b[1m11/11\u001b[0m \u001b[32m━━━━━━━━━━━━━━━━━━━━\u001b[0m\u001b[37m\u001b[0m \u001b[1m7s\u001b[0m 610ms/step - accuracy: 0.9713 - loss: 0.0900 - val_accuracy: 0.9613 - val_loss: 0.0927\n",
      "Epoch 7/15\n",
      "\u001b[1m11/11\u001b[0m \u001b[32m━━━━━━━━━━━━━━━━━━━━\u001b[0m\u001b[37m\u001b[0m \u001b[1m7s\u001b[0m 622ms/step - accuracy: 0.9855 - loss: 0.0708 - val_accuracy: 0.9548 - val_loss: 0.0806\n",
      "Epoch 8/15\n",
      "\u001b[1m11/11\u001b[0m \u001b[32m━━━━━━━━━━━━━━━━━━━━\u001b[0m\u001b[37m\u001b[0m \u001b[1m7s\u001b[0m 623ms/step - accuracy: 0.9844 - loss: 0.0602 - val_accuracy: 0.9871 - val_loss: 0.0480\n",
      "Epoch 9/15\n",
      "\u001b[1m11/11\u001b[0m \u001b[32m━━━━━━━━━━━━━━━━━━━━\u001b[0m\u001b[37m\u001b[0m \u001b[1m7s\u001b[0m 615ms/step - accuracy: 0.9917 - loss: 0.0365 - val_accuracy: 0.9806 - val_loss: 0.0554\n",
      "Epoch 10/15\n",
      "\u001b[1m11/11\u001b[0m \u001b[32m━━━━━━━━━━━━━━━━━━━━\u001b[0m\u001b[37m\u001b[0m \u001b[1m7s\u001b[0m 627ms/step - accuracy: 0.9903 - loss: 0.0310 - val_accuracy: 0.9742 - val_loss: 0.0518\n",
      "Epoch 11/15\n",
      "\u001b[1m11/11\u001b[0m \u001b[32m━━━━━━━━━━━━━━━━━━━━\u001b[0m\u001b[37m\u001b[0m \u001b[1m7s\u001b[0m 619ms/step - accuracy: 0.9897 - loss: 0.0360 - val_accuracy: 0.9806 - val_loss: 0.0454\n",
      "Epoch 12/15\n",
      "\u001b[1m11/11\u001b[0m \u001b[32m━━━━━━━━━━━━━━━━━━━━\u001b[0m\u001b[37m\u001b[0m \u001b[1m7s\u001b[0m 618ms/step - accuracy: 0.9909 - loss: 0.0423 - val_accuracy: 0.9806 - val_loss: 0.0520\n",
      "Epoch 13/15\n",
      "\u001b[1m11/11\u001b[0m \u001b[32m━━━━━━━━━━━━━━━━━━━━\u001b[0m\u001b[37m\u001b[0m \u001b[1m8s\u001b[0m 763ms/step - accuracy: 0.9917 - loss: 0.0294 - val_accuracy: 0.9935 - val_loss: 0.0389\n",
      "Epoch 14/15\n",
      "\u001b[1m11/11\u001b[0m \u001b[32m━━━━━━━━━━━━━━━━━━━━\u001b[0m\u001b[37m\u001b[0m \u001b[1m7s\u001b[0m 657ms/step - accuracy: 0.9897 - loss: 0.0357 - val_accuracy: 0.9806 - val_loss: 0.0445\n",
      "Epoch 15/15\n",
      "\u001b[1m11/11\u001b[0m \u001b[32m━━━━━━━━━━━━━━━━━━━━\u001b[0m\u001b[37m\u001b[0m \u001b[1m7s\u001b[0m 622ms/step - accuracy: 0.9939 - loss: 0.0278 - val_accuracy: 0.9935 - val_loss: 0.0498\n",
      "Training Finished.\n",
      "\n",
      "--------------------------------------\n",
      "\n"
     ]
    }
   ],
   "source": [
    "print(\"--------------------------------------\\n\")\n",
    "print(\"Training Started.\\n\")\n",
    "\n",
    "# Train the model\n",
    "class_weights = {0: 1.0, 1: 1.5, 2: 1.0}  # Adjust the weights for each class\n",
    "history = model.fit(x_train, y_train, epochs=15, batch_size=128, validation_split=0.1, class_weight=class_weights)\n",
    "\n",
    "\n",
    "print(\"Training Finished.\\n\")\n",
    "print(\"--------------------------------------\\n\")\n"
   ]
  },
  {
   "cell_type": "code",
   "execution_count": 48,
   "metadata": {},
   "outputs": [
    {
     "data": {
      "image/png": "[encoded data removed]",
      "text/plain": [
       "<Figure size 640x480 with 1 Axes>"
      ]
     },
     "metadata": {},
     "output_type": "display_data"
    }
   ],
   "source": [
    "import matplotlib.pyplot as plt\n",
    "\n",
    "# Plot and save accuracy\n",
    "plt.plot(history.epoch, history.history['accuracy'], label='accuracy')\n",
    "plt.plot(history.epoch, history.history['val_accuracy'], label='val_accuracy')\n",
    "\n",
    "# Label the axes\n",
    "plt.xlabel('Epoch')\n",
    "plt.ylabel('Accuracy')\n",
    "\n",
    "# Set the limits for the y-axis\n",
    "plt.ylim([0, 1])\n",
    "\n",
    "# Add a legend\n",
    "plt.legend(loc='lower right')\n",
    "\n",
    "# Save the plot as an image\n",
    "plt.savefig(r\"C:\\Users\\remya\\OneDrive\\Desktop\\fire_and_smoke_original\\result\\fire_and_smoke_sample_accuracy_plot.png\")\n",
    "\n",
    "# Optionally, show the plot\n",
    "plt.show()\n"
   ]
  },
  {
   "cell_type": "code",
   "execution_count": 49,
   "metadata": {},
   "outputs": [
    {
     "data": {
      "image/png": "[encoded data removed]",
      "text/plain": [
       "<Figure size 640x480 with 1 Axes>"
      ]
     },
     "metadata": {},
     "output_type": "display_data"
    }
   ],
   "source": [
    "# Clear the previous plot\n",
    "plt.clf()\n",
    "\n",
    "# Plot and save loss\n",
    "plt.plot(history.epoch, history.history['loss'], label='loss')\n",
    "plt.plot(history.epoch, history.history['val_loss'], label='val_loss')\n",
    "\n",
    "# Label the axes\n",
    "plt.xlabel('Epoch')\n",
    "plt.ylabel('Loss')\n",
    "\n",
    "# Add a legend\n",
    "plt.legend(loc='upper right')\n",
    "\n",
    "# Save the plot as an image\n",
    "plt.savefig(r\"C:\\Users\\remya\\OneDrive\\Desktop\\fire_and_smoke_original\\result\\fire_and_smoke_sample_loss_plot.png\")\n",
    "\n",
    "# Optionally, show the plot\n",
    "plt.show()\n"
   ]
  },
  {
   "cell_type": "code",
   "execution_count": 50,
   "metadata": {},
   "outputs": [
    {
     "name": "stdout",
     "output_type": "stream",
     "text": [
      "y_test shape: (388,)\n"
     ]
    }
   ],
   "source": [
    "print(f\"y_test shape: {y_test.shape}\")\n"
   ]
  },
  {
   "cell_type": "code",
   "execution_count": 51,
   "metadata": {},
   "outputs": [
    {
     "name": "stdout",
     "output_type": "stream",
     "text": [
      "--------------------------------------\n",
      "\n",
      "Model Evaluation Phase.\n",
      "\n",
      "\u001b[1m13/13\u001b[0m \u001b[32m━━━━━━━━━━━━━━━━━━━━\u001b[0m\u001b[37m\u001b[0m \u001b[1m1s\u001b[0m 97ms/step - accuracy: 0.9799 - loss: 0.0740 \n",
      "Accuracy: 97.68\n",
      "--------------------------------------\n",
      "\n",
      "\u001b[1m13/13\u001b[0m \u001b[32m━━━━━━━━━━━━━━━━━━━━\u001b[0m\u001b[37m\u001b[0m \u001b[1m1s\u001b[0m 40ms/step\n",
      "Classification Report\n",
      "               precision    recall  f1-score   support\n",
      "\n",
      "           0       1.00      0.99      1.00       191\n",
      "           1       1.00      0.86      0.93        59\n",
      "           2       0.94      1.00      0.97       138\n",
      "\n",
      "    accuracy                           0.98       388\n",
      "   macro avg       0.98      0.95      0.96       388\n",
      "weighted avg       0.98      0.98      0.98       388\n",
      "\n",
      "--------------------------------------\n",
      "\n"
     ]
    }
   ],
   "source": [
    "print(\"--------------------------------------\\n\")\n",
    "print(\"Model Evaluation Phase.\\n\")\n",
    "\n",
    "# Evaluate the model on the test set\n",
    "loss, accuracy = model.evaluate(x_test, y_test)\n",
    "print(f'Accuracy: {round(accuracy * 100, 2)}')\n",
    "print(\"--------------------------------------\\n\")\n",
    "\n",
    "# Predict the classes for the test set\n",
    "y_pred = model.predict(x_test)\n",
    "\n",
    "# Get the predicted class by selecting the class with the highest probability\n",
    "y_pred_classes = np.argmax(y_pred, axis=1)\n",
    "\n",
    "# Get the true class labels\n",
    "y_true = y_test  # No need to use np.argmax if it's already integer-encoded\n",
    " \n",
    "\n",
    "# Print the classification report\n",
    "print('Classification Report\\n', classification_report(y_true, y_pred_classes))\n",
    "print(\"--------------------------------------\\n\")"
   ]
  },
  {
   "cell_type": "code",
   "execution_count": 52,
   "metadata": {},
   "outputs": [
    {
     "name": "stdout",
     "output_type": "stream",
     "text": [
      "--------------------------------------\n",
      "\n",
      "Model Prediction.\n",
      "\n"
     ]
    }
   ],
   "source": [
    "model.save(r\"C:\\Users\\remya\\OneDrive\\Desktop\\fire_and_smoke_original\\result\\cnn_fire_and_smoke.keras\")\n",
    "\n",
    "\n",
    "print(\"--------------------------------------\\n\")\n",
    "print(\"Model Prediction.\\n\")"
   ]
  },
  {
   "cell_type": "code",
   "execution_count": 53,
   "metadata": {},
   "outputs": [],
   "source": [
    "def make_prediction(img, model):\n",
    "    # Preprocess the image\n",
    "    img = Image.fromarray(img)\n",
    "    img = img.resize((128, 128))  # Resize the image to the expected input size\n",
    "    img = np.array(img)\n",
    "    input_img = np.expand_dims(img, axis=0)\n",
    "\n",
    "    # Normalize the image if required\n",
    "    input_img = tf.keras.utils.normalize(input_img, axis=1)\n",
    "\n",
    "    # Make prediction\n",
    "    res = model.predict(input_img)\n",
    "\n",
    "    # Print the output probabilities to see the model's decision\n",
    "    print(\"Model output probabilities:\", res)\n",
    "\n",
    "    # Get the class with the highest probability\n",
    "    predicted_class = np.argmax(res, axis=1)[0]\n",
    "    prediction_prob = np.max(res, axis=1)[0]  # Get the highest probability\n",
    "\n",
    "    # Print the predicted class label and probability\n",
    "    if predicted_class == 0:\n",
    "        print(\"Class 0: No Fire and Smoke\")\n",
    "    elif predicted_class == 1:\n",
    "        print(\"Class 1: Low Intensity Fire and Smoke\")\n",
    "    elif predicted_class == 2:\n",
    "        print(\"Class 2: High Intensity Fire and Smoke\")\n",
    "    else:\n",
    "        print(\"Unknown class\")\n",
    "\n",
    "    return predicted_class, prediction_prob\n"
   ]
  },
  {
   "cell_type": "code",
   "execution_count": 54,
   "metadata": {},
   "outputs": [
    {
     "name": "stdout",
     "output_type": "stream",
     "text": [
      "\u001b[1m1/1\u001b[0m \u001b[32m━━━━━━━━━━━━━━━━━━━━\u001b[0m\u001b[37m\u001b[0m \u001b[1m0s\u001b[0m 41ms/step\n",
      "Model output probabilities: [[2.5154633e-04 2.8205616e-04 9.9946648e-01]]\n",
      "Class 2: High Intensity Fire and Smoke\n",
      "--------------------------------------\n",
      "\n",
      "\u001b[1m1/1\u001b[0m \u001b[32m━━━━━━━━━━━━━━━━━━━━\u001b[0m\u001b[37m\u001b[0m \u001b[1m0s\u001b[0m 38ms/step\n",
      "Model output probabilities: [[3.2830542e-07 9.9917608e-01 8.2354934e-04]]\n",
      "Class 1: Low Intensity Fire and Smoke\n",
      "--------------------------------------\n",
      "\n",
      "\u001b[1m1/1\u001b[0m \u001b[32m━━━━━━━━━━━━━━━━━━━━\u001b[0m\u001b[37m\u001b[0m \u001b[1m0s\u001b[0m 32ms/step\n",
      "Model output probabilities: [[9.9999988e-01 3.6732001e-08 1.4557745e-07]]\n",
      "Class 0: No Fire and Smoke\n",
      "--------------------------------------\n",
      "\n"
     ]
    }
   ],
   "source": [
    "make_prediction(cv2.imread(r\"C:\\Users\\remya\\OneDrive\\Desktop\\fire_and_smoke_original\\fire_and_smoke\\High_intensity\\19.jpg\"),model)\n",
    "print(\"--------------------------------------\\n\")\n",
    "make_prediction(cv2.imread(r\"C:\\Users\\remya\\OneDrive\\Desktop\\fire_and_smoke_original\\fire_and_smoke\\Low_intensity\\567.jpg\"),model)\n",
    "print(\"--------------------------------------\\n\")\n",
    "make_prediction(cv2.imread(r\"C:\\Users\\remya\\OneDrive\\Desktop\\fire_and_smoke_original\\fire_and_smoke\\no_fire_and_smoke\\25.jpg\"),model)\n",
    "print(\"--------------------------------------\\n\")"
   ]
  }
 ],
 "metadata": {
  "kernelspec": {
   "display_name": "Python 3",
   "language": "python",
   "name": "python3"
  },
  "language_info": {
   "codemirror_mode": {
    "name": "ipython",
    "version": 3
   },
   "file_extension": ".py",
   "mimetype": "text/x-python",
   "name": "python",
   "nbconvert_exporter": "python",
   "pygments_lexer": "ipython3",
   "version": "3.12.7"
  }
 },
 "nbformat": 4,
 "nbformat_minor": 2
}
